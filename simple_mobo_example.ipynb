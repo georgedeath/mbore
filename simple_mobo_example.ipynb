{
 "cells": [
  {
   "cell_type": "code",
   "execution_count": null,
   "metadata": {},
   "outputs": [],
   "source": [
    "from matplotlib import pyplot as plt\n",
    "import numpy as np\n",
    "import mbore\n",
    "import pymoo\n",
    "\n",
    "%load_ext autoreload\n",
    "%autoreload 2"
   ]
  },
  {
   "cell_type": "markdown",
   "metadata": {},
   "source": [
    "### problem setup"
   ]
  },
  {
   "cell_type": "code",
   "execution_count": null,
   "metadata": {},
   "outputs": [],
   "source": [
    "# here we'll optimise the DTLZ2 test problem, from the pymoo package\n",
    "n_dim = 2\n",
    "n_obj = 3\n",
    "\n",
    "problem = pymoo.problems.many.DTLZ2(n_var=n_dim, n_obj=n_obj)\n",
    "\n",
    "lb, ub = problem.bounds()\n",
    "f = problem.evaluate # objective function\n",
    "\n",
    "# its reference point\n",
    "ref_point = np.array([2.0] * n_obj)\n",
    "\n",
    "# generate some uniform random samples\n",
    "n_train = 10\n",
    "\n",
    "Xtr = np.random.uniform(lb, ub, (n_train, n_dim))\n",
    "Ytr = f(Xtr)\n",
    "\n",
    "# save the data (as an example of saving + loading)\n",
    "filename = \"testing_saving_and_loading.npz\"\n",
    "np.savez(filename, Xtr=Xtr, Ytr=Ytr, ref_point=ref_point)\n",
    "\n",
    "# load back the data\n",
    "with np.load(filename) as fd:\n",
    "    Xtr = fd[\"Xtr\"]\n",
    "    Ytr = fd[\"Ytr\"]\n",
    "    ref_point = fd[\"ref_point\"]"
   ]
  },
  {
   "cell_type": "markdown",
   "metadata": {},
   "source": [
    "### settings and setup"
   ]
  },
  {
   "cell_type": "code",
   "execution_count": null,
   "metadata": {},
   "outputs": [],
   "source": [
    "scalariser_name = \"HypCont\" # \"HypI\", \"DomRank\", \"HypCont\", \"ParEGO\"\n",
    "optimisation_budget = 1024 * n_dim # budget for optimising model (acq func equivalent)\n",
    "gamma = 1/3 # proportion of solutions to include in the *good* class\n",
    "weight_type = \"ei\" # \"ei\" or \"pi\"\n",
    "\n",
    "# get a \"ranker\" (scaleriser) class\n",
    "scalariser_class = mbore.util.get_ranker(scalariser_name)\n",
    "\n",
    "# instantiate the class\n",
    "scalariser = scalariser_class(ref_point)"
   ]
  },
  {
   "cell_type": "markdown",
   "metadata": {},
   "source": [
    "#### one step of the optimisation"
   ]
  },
  {
   "cell_type": "code",
   "execution_count": null,
   "metadata": {},
   "outputs": [],
   "source": [
    "# scalarise the objective values\n",
    "_, scalers = scalariser.get_ranks(Ytr, return_scalers=True)\n",
    "\n",
    "# rescale decision vectors to [0, 1] and declare the associated bounds\n",
    "xtransformer = mbore.transforms.ZeroOneTransform(Xtr, lb, ub)\n",
    "sXtr = xtransformer.transform(Xtr)\n",
    "slb, sub = np.zeros(n_dim), np.ones(n_dim)\n",
    "\n",
    "# get the model weights and data for the classifier training\n",
    "# (weights are all equal for \"pi\", not for \"ei\")\n",
    "x, y, z, w, tau = mbore.util.load_classification_data(\n",
    "    sXtr, scalers, gamma, weight_type=weight_type\n",
    ")\n",
    "\n",
    "# define and train the classifier\n",
    "clf = mbore.classifiers.XGBoostClassifier(Xtr=x, class_labels=z, weights=w)\n",
    "clf.train()\n",
    "\n",
    "# instantiate the optimiser\n",
    "if False:\n",
    "    # here we use random search and take the argmax (boltzman_sample=False is argmax)\n",
    "    opt = mbore.optimizers.RandomSearchOptimizer(clf, slb, sub, optimisation_budget, boltzman_sample=False)\n",
    "else:\n",
    "    # or we can use CMAES\n",
    "    opt = mbore.optimizers.CMAESOptimizer(clf, slb, sub, optimisation_budget)\n",
    "\n",
    "# perform the optimisation of the predictive distribution. note that this point\n",
    "# is in the scaled space (i.e. [0, 1]^d)\n",
    "sXnext = opt.get_xnext()\n",
    "        \n",
    "# un-scale the suggested value back to the original decision space\n",
    "Xnext = xtransformer.untransform(sXnext)\n",
    "\n",
    "# evaluate function\n",
    "Ynext = problem.evaluate(Xnext)\n",
    "\n",
    "# store the newly evaluate solution, its fitness and timing\n",
    "Xtr = np.concatenate((Xtr, Xnext.reshape(1, n_dim)))\n",
    "Ytr = np.concatenate((Ytr, Ynext.reshape(1, n_obj)))"
   ]
  }
 ],
 "metadata": {
  "interpreter": {
   "hash": "ad001df2f3c9910167d3a0d165cb908c7b8814d39b7cac6f4d2f50ac71af63de"
  },
  "kernelspec": {
   "display_name": "Python 3.7.11 ('moobore')",
   "language": "python",
   "name": "python3"
  },
  "language_info": {
   "codemirror_mode": {
    "name": "ipython",
    "version": 3
   },
   "file_extension": ".py",
   "mimetype": "text/x-python",
   "name": "python",
   "nbconvert_exporter": "python",
   "pygments_lexer": "ipython3",
   "version": "3.7.11"
  },
  "orig_nbformat": 4
 },
 "nbformat": 4,
 "nbformat_minor": 2
}
